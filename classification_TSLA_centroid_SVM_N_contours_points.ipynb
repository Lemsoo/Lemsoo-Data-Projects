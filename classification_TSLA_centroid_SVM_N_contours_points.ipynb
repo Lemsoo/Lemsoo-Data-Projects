{
  "cells": [
    {
      "cell_type": "markdown",
      "metadata": {
        "id": "1IL8QujhmgpU"
      },
      "source": [
        "# Classification using TSLA with Centroids and ML (SVM)"
      ]
    },
    {
      "cell_type": "code",
      "execution_count": null,
      "metadata": {
        "id": "zqcJcA0HmgpY"
      },
      "outputs": [],
      "source": [
        "import numpy as np, cv2, os, random, math, matplotlib.pyplot as plt, random, pandas as pd #, mahotas as mt, "
      ]
    },
    {
      "cell_type": "code",
      "execution_count": null,
      "metadata": {
        "colab": {
          "base_uri": "https://localhost:8080/"
        },
        "id": "AaYFN8cImh-Y",
        "outputId": "b383e756-1f43-4777-e3d2-a60ecc45ad46"
      },
      "outputs": [
        {
          "output_type": "stream",
          "name": "stdout",
          "text": [
            "Drive already mounted at /content/drive; to attempt to forcibly remount, call drive.mount(\"/content/drive\", force_remount=True).\n"
          ]
        }
      ],
      "source": [
        "from google.colab import drive\n",
        "drive.mount('/content/drive')"
      ]
    },
    {
      "cell_type": "markdown",
      "metadata": {
        "id": "7ZubM9mPmgpb"
      },
      "source": [
        "## Dataset upload"
      ]
    },
    {
      "cell_type": "code",
      "execution_count": null,
      "metadata": {
        "colab": {
          "base_uri": "https://localhost:8080/",
          "height": 386
        },
        "id": "dWUjAPRxmgpd",
        "outputId": "2643f53f-56e0-42b9-ddcc-aede16505b26"
      },
      "outputs": [
        {
          "output_type": "execute_result",
          "data": {
            "text/plain": [
              "                   0         1         2           3         4         5  \\\n",
              "0  ./Leaves/1001.jpg  0.177461  0.903446   61.644380  0.260866  0.798236   \n",
              "1  ./Leaves/1002.jpg  0.200377  0.801838    9.530087  0.446304  0.593406   \n",
              "2  ./Leaves/1003.jpg  0.198977  0.803517   10.138746  0.439573  0.602332   \n",
              "3  ./Leaves/1004.jpg  0.644479  0.984824  107.666480  0.484205  0.780533   \n",
              "4  ./Leaves/1005.jpg  0.511307  0.832310   86.913724  0.593642  0.903120   \n",
              "\n",
              "           6         7         8         9  ...        135       136  \\\n",
              "0  44.944883  0.396223  0.606380  8.447053  ...   9.120516  0.194805   \n",
              "1  32.104104  0.330067  0.672374  8.511067  ...  94.422139  0.197339   \n",
              "2  33.026981  0.328580  0.673845  8.491862  ...  94.244111  0.195361   \n",
              "3  78.065167  0.393428  0.609240  8.561627  ...  65.777127  0.200359   \n",
              "4  99.016086  0.385134  0.616917  7.539041  ...  80.333760  0.191366   \n",
              "\n",
              "        137       138       139       140        141       142       143  \\\n",
              "0  0.805333  2.400928  0.290584  0.768600  43.350496  0.376617  0.624385   \n",
              "1  0.802872  2.953922  0.099391  0.909594  25.818577  0.308603  0.967660   \n",
              "2  0.804893  3.256374  0.099737  0.910559  27.619837  0.321489  0.976739   \n",
              "3  0.800925  7.254996  0.376308  0.682281  40.082633  0.333005  0.684753   \n",
              "4  0.808648  0.754596  0.346332  0.754828  53.596611  0.328102  0.702522   \n",
              "\n",
              "         144  \n",
              "0   5.292319  \n",
              "1  93.033067  \n",
              "2  95.241732  \n",
              "3  22.863322  \n",
              "4  30.105247  \n",
              "\n",
              "[5 rows x 145 columns]"
            ],
            "text/html": [
              "\n",
              "  <div id=\"df-3bf5aee0-c7bc-496a-a8ff-4e340bfee876\">\n",
              "    <div class=\"colab-df-container\">\n",
              "      <div>\n",
              "<style scoped>\n",
              "    .dataframe tbody tr th:only-of-type {\n",
              "        vertical-align: middle;\n",
              "    }\n",
              "\n",
              "    .dataframe tbody tr th {\n",
              "        vertical-align: top;\n",
              "    }\n",
              "\n",
              "    .dataframe thead th {\n",
              "        text-align: right;\n",
              "    }\n",
              "</style>\n",
              "<table border=\"1\" class=\"dataframe\">\n",
              "  <thead>\n",
              "    <tr style=\"text-align: right;\">\n",
              "      <th></th>\n",
              "      <th>0</th>\n",
              "      <th>1</th>\n",
              "      <th>2</th>\n",
              "      <th>3</th>\n",
              "      <th>4</th>\n",
              "      <th>5</th>\n",
              "      <th>6</th>\n",
              "      <th>7</th>\n",
              "      <th>8</th>\n",
              "      <th>9</th>\n",
              "      <th>...</th>\n",
              "      <th>135</th>\n",
              "      <th>136</th>\n",
              "      <th>137</th>\n",
              "      <th>138</th>\n",
              "      <th>139</th>\n",
              "      <th>140</th>\n",
              "      <th>141</th>\n",
              "      <th>142</th>\n",
              "      <th>143</th>\n",
              "      <th>144</th>\n",
              "    </tr>\n",
              "  </thead>\n",
              "  <tbody>\n",
              "    <tr>\n",
              "      <th>0</th>\n",
              "      <td>./Leaves/1001.jpg</td>\n",
              "      <td>0.177461</td>\n",
              "      <td>0.903446</td>\n",
              "      <td>61.644380</td>\n",
              "      <td>0.260866</td>\n",
              "      <td>0.798236</td>\n",
              "      <td>44.944883</td>\n",
              "      <td>0.396223</td>\n",
              "      <td>0.606380</td>\n",
              "      <td>8.447053</td>\n",
              "      <td>...</td>\n",
              "      <td>9.120516</td>\n",
              "      <td>0.194805</td>\n",
              "      <td>0.805333</td>\n",
              "      <td>2.400928</td>\n",
              "      <td>0.290584</td>\n",
              "      <td>0.768600</td>\n",
              "      <td>43.350496</td>\n",
              "      <td>0.376617</td>\n",
              "      <td>0.624385</td>\n",
              "      <td>5.292319</td>\n",
              "    </tr>\n",
              "    <tr>\n",
              "      <th>1</th>\n",
              "      <td>./Leaves/1002.jpg</td>\n",
              "      <td>0.200377</td>\n",
              "      <td>0.801838</td>\n",
              "      <td>9.530087</td>\n",
              "      <td>0.446304</td>\n",
              "      <td>0.593406</td>\n",
              "      <td>32.104104</td>\n",
              "      <td>0.330067</td>\n",
              "      <td>0.672374</td>\n",
              "      <td>8.511067</td>\n",
              "      <td>...</td>\n",
              "      <td>94.422139</td>\n",
              "      <td>0.197339</td>\n",
              "      <td>0.802872</td>\n",
              "      <td>2.953922</td>\n",
              "      <td>0.099391</td>\n",
              "      <td>0.909594</td>\n",
              "      <td>25.818577</td>\n",
              "      <td>0.308603</td>\n",
              "      <td>0.967660</td>\n",
              "      <td>93.033067</td>\n",
              "    </tr>\n",
              "    <tr>\n",
              "      <th>2</th>\n",
              "      <td>./Leaves/1003.jpg</td>\n",
              "      <td>0.198977</td>\n",
              "      <td>0.803517</td>\n",
              "      <td>10.138746</td>\n",
              "      <td>0.439573</td>\n",
              "      <td>0.602332</td>\n",
              "      <td>33.026981</td>\n",
              "      <td>0.328580</td>\n",
              "      <td>0.673845</td>\n",
              "      <td>8.491862</td>\n",
              "      <td>...</td>\n",
              "      <td>94.244111</td>\n",
              "      <td>0.195361</td>\n",
              "      <td>0.804893</td>\n",
              "      <td>3.256374</td>\n",
              "      <td>0.099737</td>\n",
              "      <td>0.910559</td>\n",
              "      <td>27.619837</td>\n",
              "      <td>0.321489</td>\n",
              "      <td>0.976739</td>\n",
              "      <td>95.241732</td>\n",
              "    </tr>\n",
              "    <tr>\n",
              "      <th>3</th>\n",
              "      <td>./Leaves/1004.jpg</td>\n",
              "      <td>0.644479</td>\n",
              "      <td>0.984824</td>\n",
              "      <td>107.666480</td>\n",
              "      <td>0.484205</td>\n",
              "      <td>0.780533</td>\n",
              "      <td>78.065167</td>\n",
              "      <td>0.393428</td>\n",
              "      <td>0.609240</td>\n",
              "      <td>8.561627</td>\n",
              "      <td>...</td>\n",
              "      <td>65.777127</td>\n",
              "      <td>0.200359</td>\n",
              "      <td>0.800925</td>\n",
              "      <td>7.254996</td>\n",
              "      <td>0.376308</td>\n",
              "      <td>0.682281</td>\n",
              "      <td>40.082633</td>\n",
              "      <td>0.333005</td>\n",
              "      <td>0.684753</td>\n",
              "      <td>22.863322</td>\n",
              "    </tr>\n",
              "    <tr>\n",
              "      <th>4</th>\n",
              "      <td>./Leaves/1005.jpg</td>\n",
              "      <td>0.511307</td>\n",
              "      <td>0.832310</td>\n",
              "      <td>86.913724</td>\n",
              "      <td>0.593642</td>\n",
              "      <td>0.903120</td>\n",
              "      <td>99.016086</td>\n",
              "      <td>0.385134</td>\n",
              "      <td>0.616917</td>\n",
              "      <td>7.539041</td>\n",
              "      <td>...</td>\n",
              "      <td>80.333760</td>\n",
              "      <td>0.191366</td>\n",
              "      <td>0.808648</td>\n",
              "      <td>0.754596</td>\n",
              "      <td>0.346332</td>\n",
              "      <td>0.754828</td>\n",
              "      <td>53.596611</td>\n",
              "      <td>0.328102</td>\n",
              "      <td>0.702522</td>\n",
              "      <td>30.105247</td>\n",
              "    </tr>\n",
              "  </tbody>\n",
              "</table>\n",
              "<p>5 rows × 145 columns</p>\n",
              "</div>\n",
              "      <button class=\"colab-df-convert\" onclick=\"convertToInteractive('df-3bf5aee0-c7bc-496a-a8ff-4e340bfee876')\"\n",
              "              title=\"Convert this dataframe to an interactive table.\"\n",
              "              style=\"display:none;\">\n",
              "        \n",
              "  <svg xmlns=\"http://www.w3.org/2000/svg\" height=\"24px\"viewBox=\"0 0 24 24\"\n",
              "       width=\"24px\">\n",
              "    <path d=\"M0 0h24v24H0V0z\" fill=\"none\"/>\n",
              "    <path d=\"M18.56 5.44l.94 2.06.94-2.06 2.06-.94-2.06-.94-.94-2.06-.94 2.06-2.06.94zm-11 1L8.5 8.5l.94-2.06 2.06-.94-2.06-.94L8.5 2.5l-.94 2.06-2.06.94zm10 10l.94 2.06.94-2.06 2.06-.94-2.06-.94-.94-2.06-.94 2.06-2.06.94z\"/><path d=\"M17.41 7.96l-1.37-1.37c-.4-.4-.92-.59-1.43-.59-.52 0-1.04.2-1.43.59L10.3 9.45l-7.72 7.72c-.78.78-.78 2.05 0 2.83L4 21.41c.39.39.9.59 1.41.59.51 0 1.02-.2 1.41-.59l7.78-7.78 2.81-2.81c.8-.78.8-2.07 0-2.86zM5.41 20L4 18.59l7.72-7.72 1.47 1.35L5.41 20z\"/>\n",
              "  </svg>\n",
              "      </button>\n",
              "      \n",
              "  <style>\n",
              "    .colab-df-container {\n",
              "      display:flex;\n",
              "      flex-wrap:wrap;\n",
              "      gap: 12px;\n",
              "    }\n",
              "\n",
              "    .colab-df-convert {\n",
              "      background-color: #E8F0FE;\n",
              "      border: none;\n",
              "      border-radius: 50%;\n",
              "      cursor: pointer;\n",
              "      display: none;\n",
              "      fill: #1967D2;\n",
              "      height: 32px;\n",
              "      padding: 0 0 0 0;\n",
              "      width: 32px;\n",
              "    }\n",
              "\n",
              "    .colab-df-convert:hover {\n",
              "      background-color: #E2EBFA;\n",
              "      box-shadow: 0px 1px 2px rgba(60, 64, 67, 0.3), 0px 1px 3px 1px rgba(60, 64, 67, 0.15);\n",
              "      fill: #174EA6;\n",
              "    }\n",
              "\n",
              "    [theme=dark] .colab-df-convert {\n",
              "      background-color: #3B4455;\n",
              "      fill: #D2E3FC;\n",
              "    }\n",
              "\n",
              "    [theme=dark] .colab-df-convert:hover {\n",
              "      background-color: #434B5C;\n",
              "      box-shadow: 0px 1px 3px 1px rgba(0, 0, 0, 0.15);\n",
              "      filter: drop-shadow(0px 1px 2px rgba(0, 0, 0, 0.3));\n",
              "      fill: #FFFFFF;\n",
              "    }\n",
              "  </style>\n",
              "\n",
              "      <script>\n",
              "        const buttonEl =\n",
              "          document.querySelector('#df-3bf5aee0-c7bc-496a-a8ff-4e340bfee876 button.colab-df-convert');\n",
              "        buttonEl.style.display =\n",
              "          google.colab.kernel.accessAllowed ? 'block' : 'none';\n",
              "\n",
              "        async function convertToInteractive(key) {\n",
              "          const element = document.querySelector('#df-3bf5aee0-c7bc-496a-a8ff-4e340bfee876');\n",
              "          const dataTable =\n",
              "            await google.colab.kernel.invokeFunction('convertToInteractive',\n",
              "                                                     [key], {});\n",
              "          if (!dataTable) return;\n",
              "\n",
              "          const docLinkHtml = 'Like what you see? Visit the ' +\n",
              "            '<a target=\"_blank\" href=https://colab.research.google.com/notebooks/data_table.ipynb>data table notebook</a>'\n",
              "            + ' to learn more about interactive tables.';\n",
              "          element.innerHTML = '';\n",
              "          dataTable['output_type'] = 'display_data';\n",
              "          await google.colab.output.renderOutput(dataTable, element);\n",
              "          const docLink = document.createElement('div');\n",
              "          docLink.innerHTML = docLinkHtml;\n",
              "          element.appendChild(docLink);\n",
              "        }\n",
              "      </script>\n",
              "    </div>\n",
              "  </div>\n",
              "  "
            ]
          },
          "metadata": {},
          "execution_count": 600
        }
      ],
      "source": [
        "drive_path = '/content/drive/MyDrive/TSLA/'\n",
        "dataset = pd.read_csv(drive_path + 'TSLA_centroid_flavia_28_contour_points.csv')\n",
        "dataset.head()"
      ]
    },
    {
      "cell_type": "markdown",
      "metadata": {
        "id": "Gy-LNNFcmgpl"
      },
      "source": [
        "## Label Creation"
      ]
    },
    {
      "cell_type": "code",
      "execution_count": null,
      "metadata": {
        "id": "CpISnYCOmgpq"
      },
      "outputs": [],
      "source": [
        "breakpoints = [1001,1059,1060,1122,1552,1616,1123,1194,1195,1267,1268,1323,1324,1385,1386,1437,1497,1551,1438,1496,2001,2050,2051,2113,2114,2165,2166,2230,2231,2290,2291,2346,2347,2423,2424,2485,2486,2546,2547,2612,2616,2675,3001,3055,3056,3110,3111,3175,3176,3229,3230,3281,3282,3334,3335,3389,3390,3446,3447,3510,3511,3563,3566,3621]"
      ]
    },
    {
      "cell_type": "code",
      "execution_count": null,
      "metadata": {
        "id": "rGoinDgmmgpt"
      },
      "outputs": [],
      "source": [
        "path=\"/content/drive/MyDrive/Leaves\"\n",
        "img_files = os.listdir(path)\n",
        "img_files.sort()"
      ]
    },
    {
      "cell_type": "code",
      "execution_count": null,
      "metadata": {
        "id": "-8Yf1G8fmgpu"
      },
      "outputs": [],
      "source": [
        "target_list = []\n",
        "for file in img_files:\n",
        "    target_num = int(file.split(\".\")[0])\n",
        "    flag = 0\n",
        "    i = 0 \n",
        "    for i in range(0,len(breakpoints),2):\n",
        "        if((target_num >= breakpoints[i]) and (target_num <= breakpoints[i+1])):\n",
        "            flag = 1\n",
        "            break\n",
        "    if(flag==1):\n",
        "        target = int((i/2))\n",
        "        target_list.append(target)"
      ]
    },
    {
      "cell_type": "code",
      "execution_count": null,
      "metadata": {
        "id": "DEqhuBhemgpx"
      },
      "outputs": [],
      "source": [
        "y = np.array(target_list)"
      ]
    },
    {
      "cell_type": "markdown",
      "metadata": {
        "id": "qyXaNunBmgp1"
      },
      "source": [
        "## Training with degrees angles"
      ]
    },
    {
      "cell_type": "code",
      "execution_count": null,
      "metadata": {
        "id": "pW_RIVZHmgp1"
      },
      "outputs": [],
      "source": [
        "from sklearn.model_selection import train_test_split"
      ]
    },
    {
      "cell_type": "code",
      "execution_count": null,
      "metadata": {
        "id": "5VACfqIlmgp5"
      },
      "outputs": [],
      "source": [
        "data_train, data_test, y_train, y_test = train_test_split(dataset, y, train_size= 0.8,test_size=0.2,stratify=y)"
      ]
    },
    {
      "cell_type": "code",
      "execution_count": null,
      "metadata": {
        "colab": {
          "base_uri": "https://localhost:8080/"
        },
        "id": "kT4lWhs_mgp-",
        "outputId": "e4ed7f27-21e9-4857-d763-d24f01df7c2f"
      },
      "outputs": [
        {
          "output_type": "execute_result",
          "data": {
            "text/plain": [
              "array([ 2, 18, 14, 16, 31, 15, 28,  6,  4,  0])"
            ]
          },
          "metadata": {},
          "execution_count": 614
        }
      ],
      "source": [
        "y_train[0:10]"
      ]
    },
    {
      "cell_type": "code",
      "execution_count": null,
      "metadata": {
        "id": "f7YWP1Yfmgp-"
      },
      "outputs": [],
      "source": [
        "X_train, X_test = data_train, data_test"
      ]
    },
    {
      "cell_type": "code",
      "execution_count": null,
      "metadata": {
        "id": "4yUnoAuBmgqE"
      },
      "outputs": [],
      "source": [
        "im_train_names = list(X_train['0'].values)\n",
        "X_train = X_train.drop('0', axis=1)\n",
        "im_test_names = list(X_test['0'].values)\n",
        "X_test = X_test.drop('0', axis=1)"
      ]
    },
    {
      "cell_type": "markdown",
      "metadata": {
        "id": "SgP8tyP3mgqH"
      },
      "source": [
        "## Normalisation"
      ]
    },
    {
      "cell_type": "code",
      "execution_count": null,
      "metadata": {
        "id": "dXtTpLd8mgqJ"
      },
      "outputs": [],
      "source": [
        "from sklearn.preprocessing import StandardScaler"
      ]
    },
    {
      "cell_type": "code",
      "execution_count": null,
      "metadata": {
        "id": "2Hwo4tWzmgqL"
      },
      "outputs": [],
      "source": [
        "sc_X = StandardScaler()\n",
        "X_train = sc_X.fit_transform(X_train)\n",
        "X_test = sc_X.transform(X_test)"
      ]
    },
    {
      "cell_type": "markdown",
      "metadata": {
        "id": "xozMJLLXmgqN"
      },
      "source": [
        "## Applying SVM Model"
      ]
    },
    {
      "cell_type": "code",
      "execution_count": null,
      "metadata": {
        "id": "XAyzboXimgqN"
      },
      "outputs": [],
      "source": [
        "from sklearn.svm import SVC"
      ]
    },
    {
      "cell_type": "code",
      "execution_count": null,
      "metadata": {
        "id": "HUFzUVQjmgqO"
      },
      "outputs": [],
      "source": [
        "clf = SVC(kernel = 'rbf', C = 1000, gamma=1e-3).fit(X_train, y_train)"
      ]
    },
    {
      "cell_type": "code",
      "execution_count": null,
      "metadata": {
        "id": "-5L6uCtzmgqP"
      },
      "outputs": [],
      "source": [
        "y_pred = clf.predict(X_test)"
      ]
    },
    {
      "cell_type": "code",
      "execution_count": null,
      "metadata": {
        "id": "o1RYYlzCmgqP"
      },
      "outputs": [],
      "source": [
        "from sklearn import metrics"
      ]
    },
    {
      "cell_type": "code",
      "execution_count": null,
      "metadata": {
        "colab": {
          "base_uri": "https://localhost:8080/"
        },
        "id": "XQ_Ss-BVmgqU",
        "outputId": "84151404-8261-4a74-d1d3-5a4a49ec170e"
      },
      "outputs": [
        {
          "output_type": "execute_result",
          "data": {
            "text/plain": [
              "0.8534031413612565"
            ]
          },
          "metadata": {},
          "execution_count": 623
        }
      ],
      "source": [
        "metrics.accuracy_score(y_test, y_pred)"
      ]
    },
    {
      "cell_type": "markdown",
      "metadata": {
        "id": "kxeekpFamgqV"
      },
      "source": [
        "#### Score per class"
      ]
    },
    {
      "cell_type": "code",
      "execution_count": null,
      "metadata": {
        "id": "oDTUITrnmgqY"
      },
      "outputs": [],
      "source": [
        "def get_metrics(l):\n",
        "    class_s = []\n",
        "    precision = []\n",
        "    recall = []\n",
        "    f1_score = []\n",
        "    support = []\n",
        "    for line in l[2:34]:\n",
        "        class_s.append(int(line.split('      ')[1]))\n",
        "        precision.append(float(line.split('      ')[2]))\n",
        "        recall.append(float(line.split('      ')[3]))\n",
        "        f1_score.append(float(line.split('      ')[4]))\n",
        "        support.append(int(line.split('      ')[5]))\n",
        "\n",
        "    return class_s, precision, recall, f1_score, support\n"
      ]
    },
    {
      "cell_type": "code",
      "execution_count": null,
      "metadata": {
        "id": "ARjjhbECmgqZ"
      },
      "outputs": [],
      "source": [
        "l = str(metrics.classification_report(y_test, y_pred)).split('\\n')\n",
        "\n",
        "class_s, precision, recall, f1_score, support = get_metrics(l)"
      ]
    },
    {
      "cell_type": "code",
      "execution_count": null,
      "metadata": {
        "id": "tmNwmz9omgqc"
      },
      "outputs": [],
      "source": [
        "df_clf_report_linear = pd.DataFrame(\n",
        "    data = {\n",
        "        'class': class_s, 'precision': precision, 'recall': recall,\n",
        "        'f1_score': f1_score, 'support': support \n",
        "    }\n",
        ")"
      ]
    },
    {
      "cell_type": "code",
      "execution_count": null,
      "metadata": {
        "colab": {
          "base_uri": "https://localhost:8080/",
          "height": 394
        },
        "id": "etg_UqMDmgqd",
        "outputId": "be26a929-688f-43b7-dddd-3c4a54b33730"
      },
      "outputs": [
        {
          "output_type": "execute_result",
          "data": {
            "text/plain": [
              "    class  precision  recall  f1_score  support\n",
              "1       1       0.64    0.69      0.67       13\n",
              "8       8       0.78    0.64      0.70       11\n",
              "10     10       0.56    0.50      0.53       10\n",
              "12     12       0.75    0.60      0.67       10\n",
              "14     14       0.60    0.75      0.67       12\n",
              "15     15       0.67    0.55      0.60       11\n",
              "21     21       0.75    0.82      0.78       11\n",
              "22     22       0.64    0.64      0.64       11\n",
              "24     24       0.75    0.55      0.63       11\n",
              "27     27       0.75    0.82      0.78       11\n",
              "28     28       0.80    0.73      0.76       11"
            ],
            "text/html": [
              "\n",
              "  <div id=\"df-84584f87-422e-492f-9509-d8f66b1b8f90\">\n",
              "    <div class=\"colab-df-container\">\n",
              "      <div>\n",
              "<style scoped>\n",
              "    .dataframe tbody tr th:only-of-type {\n",
              "        vertical-align: middle;\n",
              "    }\n",
              "\n",
              "    .dataframe tbody tr th {\n",
              "        vertical-align: top;\n",
              "    }\n",
              "\n",
              "    .dataframe thead th {\n",
              "        text-align: right;\n",
              "    }\n",
              "</style>\n",
              "<table border=\"1\" class=\"dataframe\">\n",
              "  <thead>\n",
              "    <tr style=\"text-align: right;\">\n",
              "      <th></th>\n",
              "      <th>class</th>\n",
              "      <th>precision</th>\n",
              "      <th>recall</th>\n",
              "      <th>f1_score</th>\n",
              "      <th>support</th>\n",
              "    </tr>\n",
              "  </thead>\n",
              "  <tbody>\n",
              "    <tr>\n",
              "      <th>1</th>\n",
              "      <td>1</td>\n",
              "      <td>0.64</td>\n",
              "      <td>0.69</td>\n",
              "      <td>0.67</td>\n",
              "      <td>13</td>\n",
              "    </tr>\n",
              "    <tr>\n",
              "      <th>8</th>\n",
              "      <td>8</td>\n",
              "      <td>0.78</td>\n",
              "      <td>0.64</td>\n",
              "      <td>0.70</td>\n",
              "      <td>11</td>\n",
              "    </tr>\n",
              "    <tr>\n",
              "      <th>10</th>\n",
              "      <td>10</td>\n",
              "      <td>0.56</td>\n",
              "      <td>0.50</td>\n",
              "      <td>0.53</td>\n",
              "      <td>10</td>\n",
              "    </tr>\n",
              "    <tr>\n",
              "      <th>12</th>\n",
              "      <td>12</td>\n",
              "      <td>0.75</td>\n",
              "      <td>0.60</td>\n",
              "      <td>0.67</td>\n",
              "      <td>10</td>\n",
              "    </tr>\n",
              "    <tr>\n",
              "      <th>14</th>\n",
              "      <td>14</td>\n",
              "      <td>0.60</td>\n",
              "      <td>0.75</td>\n",
              "      <td>0.67</td>\n",
              "      <td>12</td>\n",
              "    </tr>\n",
              "    <tr>\n",
              "      <th>15</th>\n",
              "      <td>15</td>\n",
              "      <td>0.67</td>\n",
              "      <td>0.55</td>\n",
              "      <td>0.60</td>\n",
              "      <td>11</td>\n",
              "    </tr>\n",
              "    <tr>\n",
              "      <th>21</th>\n",
              "      <td>21</td>\n",
              "      <td>0.75</td>\n",
              "      <td>0.82</td>\n",
              "      <td>0.78</td>\n",
              "      <td>11</td>\n",
              "    </tr>\n",
              "    <tr>\n",
              "      <th>22</th>\n",
              "      <td>22</td>\n",
              "      <td>0.64</td>\n",
              "      <td>0.64</td>\n",
              "      <td>0.64</td>\n",
              "      <td>11</td>\n",
              "    </tr>\n",
              "    <tr>\n",
              "      <th>24</th>\n",
              "      <td>24</td>\n",
              "      <td>0.75</td>\n",
              "      <td>0.55</td>\n",
              "      <td>0.63</td>\n",
              "      <td>11</td>\n",
              "    </tr>\n",
              "    <tr>\n",
              "      <th>27</th>\n",
              "      <td>27</td>\n",
              "      <td>0.75</td>\n",
              "      <td>0.82</td>\n",
              "      <td>0.78</td>\n",
              "      <td>11</td>\n",
              "    </tr>\n",
              "    <tr>\n",
              "      <th>28</th>\n",
              "      <td>28</td>\n",
              "      <td>0.80</td>\n",
              "      <td>0.73</td>\n",
              "      <td>0.76</td>\n",
              "      <td>11</td>\n",
              "    </tr>\n",
              "  </tbody>\n",
              "</table>\n",
              "</div>\n",
              "      <button class=\"colab-df-convert\" onclick=\"convertToInteractive('df-84584f87-422e-492f-9509-d8f66b1b8f90')\"\n",
              "              title=\"Convert this dataframe to an interactive table.\"\n",
              "              style=\"display:none;\">\n",
              "        \n",
              "  <svg xmlns=\"http://www.w3.org/2000/svg\" height=\"24px\"viewBox=\"0 0 24 24\"\n",
              "       width=\"24px\">\n",
              "    <path d=\"M0 0h24v24H0V0z\" fill=\"none\"/>\n",
              "    <path d=\"M18.56 5.44l.94 2.06.94-2.06 2.06-.94-2.06-.94-.94-2.06-.94 2.06-2.06.94zm-11 1L8.5 8.5l.94-2.06 2.06-.94-2.06-.94L8.5 2.5l-.94 2.06-2.06.94zm10 10l.94 2.06.94-2.06 2.06-.94-2.06-.94-.94-2.06-.94 2.06-2.06.94z\"/><path d=\"M17.41 7.96l-1.37-1.37c-.4-.4-.92-.59-1.43-.59-.52 0-1.04.2-1.43.59L10.3 9.45l-7.72 7.72c-.78.78-.78 2.05 0 2.83L4 21.41c.39.39.9.59 1.41.59.51 0 1.02-.2 1.41-.59l7.78-7.78 2.81-2.81c.8-.78.8-2.07 0-2.86zM5.41 20L4 18.59l7.72-7.72 1.47 1.35L5.41 20z\"/>\n",
              "  </svg>\n",
              "      </button>\n",
              "      \n",
              "  <style>\n",
              "    .colab-df-container {\n",
              "      display:flex;\n",
              "      flex-wrap:wrap;\n",
              "      gap: 12px;\n",
              "    }\n",
              "\n",
              "    .colab-df-convert {\n",
              "      background-color: #E8F0FE;\n",
              "      border: none;\n",
              "      border-radius: 50%;\n",
              "      cursor: pointer;\n",
              "      display: none;\n",
              "      fill: #1967D2;\n",
              "      height: 32px;\n",
              "      padding: 0 0 0 0;\n",
              "      width: 32px;\n",
              "    }\n",
              "\n",
              "    .colab-df-convert:hover {\n",
              "      background-color: #E2EBFA;\n",
              "      box-shadow: 0px 1px 2px rgba(60, 64, 67, 0.3), 0px 1px 3px 1px rgba(60, 64, 67, 0.15);\n",
              "      fill: #174EA6;\n",
              "    }\n",
              "\n",
              "    [theme=dark] .colab-df-convert {\n",
              "      background-color: #3B4455;\n",
              "      fill: #D2E3FC;\n",
              "    }\n",
              "\n",
              "    [theme=dark] .colab-df-convert:hover {\n",
              "      background-color: #434B5C;\n",
              "      box-shadow: 0px 1px 3px 1px rgba(0, 0, 0, 0.15);\n",
              "      filter: drop-shadow(0px 1px 2px rgba(0, 0, 0, 0.3));\n",
              "      fill: #FFFFFF;\n",
              "    }\n",
              "  </style>\n",
              "\n",
              "      <script>\n",
              "        const buttonEl =\n",
              "          document.querySelector('#df-84584f87-422e-492f-9509-d8f66b1b8f90 button.colab-df-convert');\n",
              "        buttonEl.style.display =\n",
              "          google.colab.kernel.accessAllowed ? 'block' : 'none';\n",
              "\n",
              "        async function convertToInteractive(key) {\n",
              "          const element = document.querySelector('#df-84584f87-422e-492f-9509-d8f66b1b8f90');\n",
              "          const dataTable =\n",
              "            await google.colab.kernel.invokeFunction('convertToInteractive',\n",
              "                                                     [key], {});\n",
              "          if (!dataTable) return;\n",
              "\n",
              "          const docLinkHtml = 'Like what you see? Visit the ' +\n",
              "            '<a target=\"_blank\" href=https://colab.research.google.com/notebooks/data_table.ipynb>data table notebook</a>'\n",
              "            + ' to learn more about interactive tables.';\n",
              "          element.innerHTML = '';\n",
              "          dataTable['output_type'] = 'display_data';\n",
              "          await google.colab.output.renderOutput(dataTable, element);\n",
              "          const docLink = document.createElement('div');\n",
              "          docLink.innerHTML = docLinkHtml;\n",
              "          element.appendChild(docLink);\n",
              "        }\n",
              "      </script>\n",
              "    </div>\n",
              "  </div>\n",
              "  "
            ]
          },
          "metadata": {},
          "execution_count": 627
        }
      ],
      "source": [
        "df_clf_report_linear[df_clf_report_linear.f1_score < 0.8]"
      ]
    },
    {
      "cell_type": "markdown",
      "metadata": {
        "id": "ZHIKAvvVmgqe"
      },
      "source": [
        "## Setting the hyper-parameters"
      ]
    },
    {
      "cell_type": "code",
      "execution_count": null,
      "metadata": {
        "id": "PWLFWnxnmgqe"
      },
      "outputs": [],
      "source": [
        "from sklearn.model_selection import GridSearchCV"
      ]
    },
    {
      "cell_type": "code",
      "execution_count": null,
      "metadata": {
        "id": "UH5CizBEmgql"
      },
      "outputs": [],
      "source": [
        "parameters = [{'kernel': ['rbf'],\n",
        "               'gamma': [1e-4, 1e-3, 0.01, 0.1, 0.2, 0.5],\n",
        "               'C': [1, 10, 100, 1000]},\n",
        "              {'kernel': ['linear'], 'C': [1, 10, 100, 1000]}\n",
        "             ]"
      ]
    },
    {
      "cell_type": "code",
      "execution_count": null,
      "metadata": {
        "colab": {
          "base_uri": "https://localhost:8080/"
        },
        "id": "xs399Bp2mgqn",
        "outputId": "e887148f-3bfb-4151-89ac-8723f4f82918"
      },
      "outputs": [
        {
          "output_type": "execute_result",
          "data": {
            "text/plain": [
              "GridSearchCV(cv=5, estimator=SVC(),\n",
              "             param_grid=[{'C': [1, 10, 100, 1000],\n",
              "                          'gamma': [0.0001, 0.001, 0.01, 0.1, 0.2, 0.5],\n",
              "                          'kernel': ['rbf']},\n",
              "                         {'C': [1, 10, 100, 1000], 'kernel': ['linear']}])"
            ]
          },
          "metadata": {},
          "execution_count": 630
        }
      ],
      "source": [
        "svm_clf = GridSearchCV(SVC(decision_function_shape='ovr'), parameters, cv=5)\n",
        "svm_clf.fit(X_train, y_train)"
      ]
    },
    {
      "cell_type": "code",
      "execution_count": null,
      "metadata": {
        "colab": {
          "base_uri": "https://localhost:8080/"
        },
        "id": "30sB8f6-mgqs",
        "outputId": "e01af390-e19f-4b50-d4fa-dbbc800fafa2"
      },
      "outputs": [
        {
          "output_type": "execute_result",
          "data": {
            "text/plain": [
              "{'C': 10, 'gamma': 0.01, 'kernel': 'rbf'}"
            ]
          },
          "metadata": {},
          "execution_count": 631
        }
      ],
      "source": [
        "svm_clf.best_params_"
      ]
    },
    {
      "cell_type": "markdown",
      "metadata": {
        "id": "koeJQjTrmgqu"
      },
      "source": [
        "##### All the parameters with their means and standard deviation"
      ]
    },
    {
      "cell_type": "code",
      "execution_count": null,
      "metadata": {
        "colab": {
          "base_uri": "https://localhost:8080/"
        },
        "id": "eO2sbWjrmgqw",
        "outputId": "fd2bae56-4c54-44e4-f935-0f5215ff1939"
      },
      "outputs": [
        {
          "output_type": "stream",
          "name": "stdout",
          "text": [
            "0.156 (+/-0.038) for {'C': 1, 'gamma': 0.0001, 'kernel': 'rbf'}\n",
            "0.596 (+/-0.041) for {'C': 1, 'gamma': 0.001, 'kernel': 'rbf'}\n",
            "0.772 (+/-0.030) for {'C': 1, 'gamma': 0.01, 'kernel': 'rbf'}\n",
            "0.674 (+/-0.031) for {'C': 1, 'gamma': 0.1, 'kernel': 'rbf'}\n",
            "0.535 (+/-0.011) for {'C': 1, 'gamma': 0.2, 'kernel': 'rbf'}\n",
            "0.279 (+/-0.028) for {'C': 1, 'gamma': 0.5, 'kernel': 'rbf'}\n",
            "0.601 (+/-0.034) for {'C': 10, 'gamma': 0.0001, 'kernel': 'rbf'}\n",
            "0.791 (+/-0.030) for {'C': 10, 'gamma': 0.001, 'kernel': 'rbf'}\n",
            "0.843 (+/-0.034) for {'C': 10, 'gamma': 0.01, 'kernel': 'rbf'}\n",
            "0.698 (+/-0.037) for {'C': 10, 'gamma': 0.1, 'kernel': 'rbf'}\n",
            "0.561 (+/-0.020) for {'C': 10, 'gamma': 0.2, 'kernel': 'rbf'}\n",
            "0.317 (+/-0.032) for {'C': 10, 'gamma': 0.5, 'kernel': 'rbf'}\n",
            "0.787 (+/-0.032) for {'C': 100, 'gamma': 0.0001, 'kernel': 'rbf'}\n",
            "0.840 (+/-0.041) for {'C': 100, 'gamma': 0.001, 'kernel': 'rbf'}\n",
            "0.841 (+/-0.044) for {'C': 100, 'gamma': 0.01, 'kernel': 'rbf'}\n",
            "0.698 (+/-0.037) for {'C': 100, 'gamma': 0.1, 'kernel': 'rbf'}\n",
            "0.561 (+/-0.020) for {'C': 100, 'gamma': 0.2, 'kernel': 'rbf'}\n",
            "0.317 (+/-0.032) for {'C': 100, 'gamma': 0.5, 'kernel': 'rbf'}\n",
            "0.835 (+/-0.046) for {'C': 1000, 'gamma': 0.0001, 'kernel': 'rbf'}\n",
            "0.835 (+/-0.034) for {'C': 1000, 'gamma': 0.001, 'kernel': 'rbf'}\n",
            "0.841 (+/-0.044) for {'C': 1000, 'gamma': 0.01, 'kernel': 'rbf'}\n",
            "0.698 (+/-0.037) for {'C': 1000, 'gamma': 0.1, 'kernel': 'rbf'}\n",
            "0.561 (+/-0.020) for {'C': 1000, 'gamma': 0.2, 'kernel': 'rbf'}\n",
            "0.317 (+/-0.032) for {'C': 1000, 'gamma': 0.5, 'kernel': 'rbf'}\n",
            "0.824 (+/-0.034) for {'C': 1, 'kernel': 'linear'}\n",
            "0.827 (+/-0.034) for {'C': 10, 'kernel': 'linear'}\n",
            "0.827 (+/-0.034) for {'C': 100, 'kernel': 'linear'}\n",
            "0.827 (+/-0.034) for {'C': 1000, 'kernel': 'linear'}\n"
          ]
        }
      ],
      "source": [
        "means = svm_clf.cv_results_['mean_test_score']\n",
        "stds = svm_clf.cv_results_['std_test_score']\n",
        "for mean, std, params in zip(means, stds, svm_clf.cv_results_['params']):\n",
        "    print(\"%0.3f (+/-%0.03f) for %r\" % (mean, std * 2, params))"
      ]
    },
    {
      "cell_type": "markdown",
      "metadata": {
        "id": "Slym3ifKmgq4"
      },
      "source": [
        "#### Predicting the Test dataset and showing the score"
      ]
    },
    {
      "cell_type": "code",
      "execution_count": null,
      "metadata": {
        "id": "bagQPEZWmgq5"
      },
      "outputs": [],
      "source": [
        "y_pred_svm = svm_clf.predict(X_test)"
      ]
    },
    {
      "cell_type": "code",
      "execution_count": null,
      "metadata": {
        "colab": {
          "base_uri": "https://localhost:8080/"
        },
        "id": "AbKKV1kpmgq7",
        "outputId": "ce43d6c1-48e4-44ca-f07f-5c6b9588bb81"
      },
      "outputs": [
        {
          "output_type": "execute_result",
          "data": {
            "text/plain": [
              "0.8743455497382199"
            ]
          },
          "metadata": {},
          "execution_count": 634
        }
      ],
      "source": [
        "metrics.accuracy_score(y_test, y_pred_svm)"
      ]
    },
    {
      "cell_type": "markdown",
      "metadata": {
        "id": "ErgoZCkImgrC"
      },
      "source": [
        "#### The score of each class"
      ]
    },
    {
      "cell_type": "markdown",
      "metadata": {
        "id": "a1UZuS36mgrE"
      },
      "source": [
        "![F1-score](F1-Score.png)"
      ]
    },
    {
      "cell_type": "code",
      "execution_count": null,
      "metadata": {
        "colab": {
          "base_uri": "https://localhost:8080/",
          "height": 868
        },
        "id": "KR7TqWd8mgrH",
        "outputId": "ad29fb51-4876-477d-8714-676da654ff63"
      },
      "outputs": [
        {
          "output_type": "execute_result",
          "data": {
            "text/plain": [
              "<sklearn.metrics._plot.confusion_matrix.ConfusionMatrixDisplay at 0x7f4da7704d60>"
            ]
          },
          "metadata": {},
          "execution_count": 636
        },
        {
          "output_type": "display_data",
          "data": {
            "text/plain": [
              "<Figure size 432x288 with 2 Axes>"
            ],
            "image/png": "[encoded data removed]"
          },
          "metadata": {
            "needs_background": "light"
          }
        },
        {
          "output_type": "display_data",
          "data": {
            "text/plain": [
              "<Figure size 720x720 with 2 Axes>"
            ],
            "image/png": "[encoded data removed]"
          },
          "metadata": {
            "needs_background": "light"
          }
        }
      ],
      "source": [
        "from sklearn.metrics import ConfusionMatrixDisplay, confusion_matrix\n",
        "cmp = ConfusionMatrixDisplay.from_predictions(y_test, y_pred_svm)\n",
        "fig, ax = plt.subplots(figsize=(10,10))\n",
        "cmp.plot(ax=ax)"
      ]
    },
    {
      "cell_type": "code",
      "execution_count": null,
      "metadata": {
        "id": "AJVKoDjVmgrM"
      },
      "outputs": [],
      "source": [
        "l = str(metrics.classification_report(y_test, y_pred_svm)).split('\\n')\n",
        "\n",
        "class_s, precision, recall, f1_score, support = get_metrics(l)\n",
        "\n",
        "df_clf_report_rbf = pd.DataFrame(\n",
        "    data = {\n",
        "        'class': class_s, 'precision': precision, 'recall': recall,\n",
        "        'f1_score': f1_score, 'support': support \n",
        "    }\n",
        ")"
      ]
    },
    {
      "cell_type": "code",
      "execution_count": null,
      "metadata": {
        "colab": {
          "base_uri": "https://localhost:8080/",
          "height": 331
        },
        "id": "bLiPzWI8mgrN",
        "outputId": "c772df14-f7e3-4e27-bc88-52b5bfe9dc25"
      },
      "outputs": [
        {
          "output_type": "execute_result",
          "data": {
            "text/plain": [
              "    class  precision  recall  f1_score  support\n",
              "1       1       0.88    0.54      0.67       13\n",
              "8       8       0.67    0.55      0.60       11\n",
              "10     10       0.70    0.70      0.70       10\n",
              "12     12       0.70    0.70      0.70       10\n",
              "14     14       0.61    0.92      0.73       12\n",
              "15     15       0.67    0.55      0.60       11\n",
              "22     22       0.67    0.73      0.70       11\n",
              "24     24       0.89    0.73      0.80       11\n",
              "28     28       1.00    0.64      0.78       11"
            ],
            "text/html": [
              "\n",
              "  <div id=\"df-dab40e50-7012-4e7d-bb74-c11d24f99c03\">\n",
              "    <div class=\"colab-df-container\">\n",
              "      <div>\n",
              "<style scoped>\n",
              "    .dataframe tbody tr th:only-of-type {\n",
              "        vertical-align: middle;\n",
              "    }\n",
              "\n",
              "    .dataframe tbody tr th {\n",
              "        vertical-align: top;\n",
              "    }\n",
              "\n",
              "    .dataframe thead th {\n",
              "        text-align: right;\n",
              "    }\n",
              "</style>\n",
              "<table border=\"1\" class=\"dataframe\">\n",
              "  <thead>\n",
              "    <tr style=\"text-align: right;\">\n",
              "      <th></th>\n",
              "      <th>class</th>\n",
              "      <th>precision</th>\n",
              "      <th>recall</th>\n",
              "      <th>f1_score</th>\n",
              "      <th>support</th>\n",
              "    </tr>\n",
              "  </thead>\n",
              "  <tbody>\n",
              "    <tr>\n",
              "      <th>1</th>\n",
              "      <td>1</td>\n",
              "      <td>0.88</td>\n",
              "      <td>0.54</td>\n",
              "      <td>0.67</td>\n",
              "      <td>13</td>\n",
              "    </tr>\n",
              "    <tr>\n",
              "      <th>8</th>\n",
              "      <td>8</td>\n",
              "      <td>0.67</td>\n",
              "      <td>0.55</td>\n",
              "      <td>0.60</td>\n",
              "      <td>11</td>\n",
              "    </tr>\n",
              "    <tr>\n",
              "      <th>10</th>\n",
              "      <td>10</td>\n",
              "      <td>0.70</td>\n",
              "      <td>0.70</td>\n",
              "      <td>0.70</td>\n",
              "      <td>10</td>\n",
              "    </tr>\n",
              "    <tr>\n",
              "      <th>12</th>\n",
              "      <td>12</td>\n",
              "      <td>0.70</td>\n",
              "      <td>0.70</td>\n",
              "      <td>0.70</td>\n",
              "      <td>10</td>\n",
              "    </tr>\n",
              "    <tr>\n",
              "      <th>14</th>\n",
              "      <td>14</td>\n",
              "      <td>0.61</td>\n",
              "      <td>0.92</td>\n",
              "      <td>0.73</td>\n",
              "      <td>12</td>\n",
              "    </tr>\n",
              "    <tr>\n",
              "      <th>15</th>\n",
              "      <td>15</td>\n",
              "      <td>0.67</td>\n",
              "      <td>0.55</td>\n",
              "      <td>0.60</td>\n",
              "      <td>11</td>\n",
              "    </tr>\n",
              "    <tr>\n",
              "      <th>22</th>\n",
              "      <td>22</td>\n",
              "      <td>0.67</td>\n",
              "      <td>0.73</td>\n",
              "      <td>0.70</td>\n",
              "      <td>11</td>\n",
              "    </tr>\n",
              "    <tr>\n",
              "      <th>24</th>\n",
              "      <td>24</td>\n",
              "      <td>0.89</td>\n",
              "      <td>0.73</td>\n",
              "      <td>0.80</td>\n",
              "      <td>11</td>\n",
              "    </tr>\n",
              "    <tr>\n",
              "      <th>28</th>\n",
              "      <td>28</td>\n",
              "      <td>1.00</td>\n",
              "      <td>0.64</td>\n",
              "      <td>0.78</td>\n",
              "      <td>11</td>\n",
              "    </tr>\n",
              "  </tbody>\n",
              "</table>\n",
              "</div>\n",
              "      <button class=\"colab-df-convert\" onclick=\"convertToInteractive('df-dab40e50-7012-4e7d-bb74-c11d24f99c03')\"\n",
              "              title=\"Convert this dataframe to an interactive table.\"\n",
              "              style=\"display:none;\">\n",
              "        \n",
              "  <svg xmlns=\"http://www.w3.org/2000/svg\" height=\"24px\"viewBox=\"0 0 24 24\"\n",
              "       width=\"24px\">\n",
              "    <path d=\"M0 0h24v24H0V0z\" fill=\"none\"/>\n",
              "    <path d=\"M18.56 5.44l.94 2.06.94-2.06 2.06-.94-2.06-.94-.94-2.06-.94 2.06-2.06.94zm-11 1L8.5 8.5l.94-2.06 2.06-.94-2.06-.94L8.5 2.5l-.94 2.06-2.06.94zm10 10l.94 2.06.94-2.06 2.06-.94-2.06-.94-.94-2.06-.94 2.06-2.06.94z\"/><path d=\"M17.41 7.96l-1.37-1.37c-.4-.4-.92-.59-1.43-.59-.52 0-1.04.2-1.43.59L10.3 9.45l-7.72 7.72c-.78.78-.78 2.05 0 2.83L4 21.41c.39.39.9.59 1.41.59.51 0 1.02-.2 1.41-.59l7.78-7.78 2.81-2.81c.8-.78.8-2.07 0-2.86zM5.41 20L4 18.59l7.72-7.72 1.47 1.35L5.41 20z\"/>\n",
              "  </svg>\n",
              "      </button>\n",
              "      \n",
              "  <style>\n",
              "    .colab-df-container {\n",
              "      display:flex;\n",
              "      flex-wrap:wrap;\n",
              "      gap: 12px;\n",
              "    }\n",
              "\n",
              "    .colab-df-convert {\n",
              "      background-color: #E8F0FE;\n",
              "      border: none;\n",
              "      border-radius: 50%;\n",
              "      cursor: pointer;\n",
              "      display: none;\n",
              "      fill: #1967D2;\n",
              "      height: 32px;\n",
              "      padding: 0 0 0 0;\n",
              "      width: 32px;\n",
              "    }\n",
              "\n",
              "    .colab-df-convert:hover {\n",
              "      background-color: #E2EBFA;\n",
              "      box-shadow: 0px 1px 2px rgba(60, 64, 67, 0.3), 0px 1px 3px 1px rgba(60, 64, 67, 0.15);\n",
              "      fill: #174EA6;\n",
              "    }\n",
              "\n",
              "    [theme=dark] .colab-df-convert {\n",
              "      background-color: #3B4455;\n",
              "      fill: #D2E3FC;\n",
              "    }\n",
              "\n",
              "    [theme=dark] .colab-df-convert:hover {\n",
              "      background-color: #434B5C;\n",
              "      box-shadow: 0px 1px 3px 1px rgba(0, 0, 0, 0.15);\n",
              "      filter: drop-shadow(0px 1px 2px rgba(0, 0, 0, 0.3));\n",
              "      fill: #FFFFFF;\n",
              "    }\n",
              "  </style>\n",
              "\n",
              "      <script>\n",
              "        const buttonEl =\n",
              "          document.querySelector('#df-dab40e50-7012-4e7d-bb74-c11d24f99c03 button.colab-df-convert');\n",
              "        buttonEl.style.display =\n",
              "          google.colab.kernel.accessAllowed ? 'block' : 'none';\n",
              "\n",
              "        async function convertToInteractive(key) {\n",
              "          const element = document.querySelector('#df-dab40e50-7012-4e7d-bb74-c11d24f99c03');\n",
              "          const dataTable =\n",
              "            await google.colab.kernel.invokeFunction('convertToInteractive',\n",
              "                                                     [key], {});\n",
              "          if (!dataTable) return;\n",
              "\n",
              "          const docLinkHtml = 'Like what you see? Visit the ' +\n",
              "            '<a target=\"_blank\" href=https://colab.research.google.com/notebooks/data_table.ipynb>data table notebook</a>'\n",
              "            + ' to learn more about interactive tables.';\n",
              "          element.innerHTML = '';\n",
              "          dataTable['output_type'] = 'display_data';\n",
              "          await google.colab.output.renderOutput(dataTable, element);\n",
              "          const docLink = document.createElement('div');\n",
              "          docLink.innerHTML = docLinkHtml;\n",
              "          element.appendChild(docLink);\n",
              "        }\n",
              "      </script>\n",
              "    </div>\n",
              "  </div>\n",
              "  "
            ]
          },
          "metadata": {},
          "execution_count": 638
        }
      ],
      "source": [
        "df_clf_report_rbf [df_clf_report_rbf.f1_score <= 0.8]"
      ]
    },
    {
      "cell_type": "code",
      "execution_count": null,
      "metadata": {
        "colab": {
          "base_uri": "https://localhost:8080/",
          "height": 446
        },
        "id": "enIbfgrFmgrO",
        "outputId": "83ef18c1-ea77-48b3-a734-ce7c0a288f7f"
      },
      "outputs": [
        {
          "output_type": "execute_result",
          "data": {
            "text/plain": [
              "<matplotlib.legend.Legend at 0x7f4da2fa6490>"
            ]
          },
          "metadata": {},
          "execution_count": 642
        },
        {
          "output_type": "display_data",
          "data": {
            "text/plain": [
              "<Figure size 1440x504 with 1 Axes>"
            ],
            "image/png": "[encoded data removed]"
          },
          "metadata": {
            "needs_background": "light"
          }
        }
      ],
      "source": [
        "plt.figure(figsize=(20,7))\n",
        "\n",
        "plt.xticks([x for x in range(0, 32, 1)])\n",
        "plt.yticks([x for x in np.arange(0, 1.1, 0.1)])\n",
        "plt.grid(True)\n",
        "\n",
        "class_labels = [x - 0.3 for x in df_clf_report_rbf['class'].values]\n",
        "plt.bar(class_labels, df_clf_report_rbf['f1_score'].values, label=\"F1-score\", color=(0, 0, 1), width=0.3)\n",
        "\n",
        "class_labels = [x - 0.6 for x in df_clf_report_rbf['class'].values]\n",
        "plt.bar(class_labels, df_clf_report_rbf['recall'].values, label=\"recall\", color=(255/255, 165/255, 0), width=0.3)\n",
        "\n",
        "class_labels = [f'{x}' for x in df_clf_report_rbf['class'].values]\n",
        "plt.bar(class_labels, df_clf_report_rbf['precision'].values, label=\"precision\", color=(139/255, 69/255, 19/255), width=0.3)\n",
        "\n",
        "plt.legend()"
      ]
    },
    {
      "cell_type": "code",
      "execution_count": null,
      "metadata": {
        "id": "J7XZdlDhmgrV"
      },
      "outputs": [],
      "source": [
        "T_F_values = pd.DataFrame(\n",
        "    data = {\n",
        "        'image_name': im_test_names, \n",
        "        'true_class': y_test, \n",
        "        'predicted_class': y_pred_svm\n",
        "    }\n",
        ")"
      ]
    },
    {
      "cell_type": "code",
      "execution_count": null,
      "metadata": {
        "id": "cg6vDu5RmgrX"
      },
      "outputs": [],
      "source": [
        "T_F_values_non = T_F_values[T_F_values.true_class != T_F_values.predicted_class]\n",
        "T_F_values_non = T_F_values_non.reset_index()\n",
        "T_F_values_non = T_F_values_non.drop('index', axis=1)"
      ]
    },
    {
      "cell_type": "code",
      "execution_count": null,
      "metadata": {
        "colab": {
          "base_uri": "https://localhost:8080/",
          "height": 143
        },
        "id": "agp5FvvQmgrY",
        "outputId": "756f005f-3725-4129-dd26-7b3b04929dde"
      },
      "outputs": [
        {
          "output_type": "execute_result",
          "data": {
            "text/plain": [
              "           image_name  true_class  predicted_class\n",
              "2   ./Leaves/1514.jpg           8               24\n",
              "3   ./Leaves/1522.jpg           8               28\n",
              "14  ./Leaves/1524.jpg           8                2"
            ],
            "text/html": [
              "\n",
              "  <div id=\"df-312021f2-0dbf-4b57-a77b-63b2297f4462\">\n",
              "    <div class=\"colab-df-container\">\n",
              "      <div>\n",
              "<style scoped>\n",
              "    .dataframe tbody tr th:only-of-type {\n",
              "        vertical-align: middle;\n",
              "    }\n",
              "\n",
              "    .dataframe tbody tr th {\n",
              "        vertical-align: top;\n",
              "    }\n",
              "\n",
              "    .dataframe thead th {\n",
              "        text-align: right;\n",
              "    }\n",
              "</style>\n",
              "<table border=\"1\" class=\"dataframe\">\n",
              "  <thead>\n",
              "    <tr style=\"text-align: right;\">\n",
              "      <th></th>\n",
              "      <th>image_name</th>\n",
              "      <th>true_class</th>\n",
              "      <th>predicted_class</th>\n",
              "    </tr>\n",
              "  </thead>\n",
              "  <tbody>\n",
              "    <tr>\n",
              "      <th>2</th>\n",
              "      <td>./Leaves/1514.jpg</td>\n",
              "      <td>8</td>\n",
              "      <td>24</td>\n",
              "    </tr>\n",
              "    <tr>\n",
              "      <th>3</th>\n",
              "      <td>./Leaves/1522.jpg</td>\n",
              "      <td>8</td>\n",
              "      <td>28</td>\n",
              "    </tr>\n",
              "    <tr>\n",
              "      <th>14</th>\n",
              "      <td>./Leaves/1524.jpg</td>\n",
              "      <td>8</td>\n",
              "      <td>2</td>\n",
              "    </tr>\n",
              "  </tbody>\n",
              "</table>\n",
              "</div>\n",
              "      <button class=\"colab-df-convert\" onclick=\"convertToInteractive('df-312021f2-0dbf-4b57-a77b-63b2297f4462')\"\n",
              "              title=\"Convert this dataframe to an interactive table.\"\n",
              "              style=\"display:none;\">\n",
              "        \n",
              "  <svg xmlns=\"http://www.w3.org/2000/svg\" height=\"24px\"viewBox=\"0 0 24 24\"\n",
              "       width=\"24px\">\n",
              "    <path d=\"M0 0h24v24H0V0z\" fill=\"none\"/>\n",
              "    <path d=\"M18.56 5.44l.94 2.06.94-2.06 2.06-.94-2.06-.94-.94-2.06-.94 2.06-2.06.94zm-11 1L8.5 8.5l.94-2.06 2.06-.94-2.06-.94L8.5 2.5l-.94 2.06-2.06.94zm10 10l.94 2.06.94-2.06 2.06-.94-2.06-.94-.94-2.06-.94 2.06-2.06.94z\"/><path d=\"M17.41 7.96l-1.37-1.37c-.4-.4-.92-.59-1.43-.59-.52 0-1.04.2-1.43.59L10.3 9.45l-7.72 7.72c-.78.78-.78 2.05 0 2.83L4 21.41c.39.39.9.59 1.41.59.51 0 1.02-.2 1.41-.59l7.78-7.78 2.81-2.81c.8-.78.8-2.07 0-2.86zM5.41 20L4 18.59l7.72-7.72 1.47 1.35L5.41 20z\"/>\n",
              "  </svg>\n",
              "      </button>\n",
              "      \n",
              "  <style>\n",
              "    .colab-df-container {\n",
              "      display:flex;\n",
              "      flex-wrap:wrap;\n",
              "      gap: 12px;\n",
              "    }\n",
              "\n",
              "    .colab-df-convert {\n",
              "      background-color: #E8F0FE;\n",
              "      border: none;\n",
              "      border-radius: 50%;\n",
              "      cursor: pointer;\n",
              "      display: none;\n",
              "      fill: #1967D2;\n",
              "      height: 32px;\n",
              "      padding: 0 0 0 0;\n",
              "      width: 32px;\n",
              "    }\n",
              "\n",
              "    .colab-df-convert:hover {\n",
              "      background-color: #E2EBFA;\n",
              "      box-shadow: 0px 1px 2px rgba(60, 64, 67, 0.3), 0px 1px 3px 1px rgba(60, 64, 67, 0.15);\n",
              "      fill: #174EA6;\n",
              "    }\n",
              "\n",
              "    [theme=dark] .colab-df-convert {\n",
              "      background-color: #3B4455;\n",
              "      fill: #D2E3FC;\n",
              "    }\n",
              "\n",
              "    [theme=dark] .colab-df-convert:hover {\n",
              "      background-color: #434B5C;\n",
              "      box-shadow: 0px 1px 3px 1px rgba(0, 0, 0, 0.15);\n",
              "      filter: drop-shadow(0px 1px 2px rgba(0, 0, 0, 0.3));\n",
              "      fill: #FFFFFF;\n",
              "    }\n",
              "  </style>\n",
              "\n",
              "      <script>\n",
              "        const buttonEl =\n",
              "          document.querySelector('#df-312021f2-0dbf-4b57-a77b-63b2297f4462 button.colab-df-convert');\n",
              "        buttonEl.style.display =\n",
              "          google.colab.kernel.accessAllowed ? 'block' : 'none';\n",
              "\n",
              "        async function convertToInteractive(key) {\n",
              "          const element = document.querySelector('#df-312021f2-0dbf-4b57-a77b-63b2297f4462');\n",
              "          const dataTable =\n",
              "            await google.colab.kernel.invokeFunction('convertToInteractive',\n",
              "                                                     [key], {});\n",
              "          if (!dataTable) return;\n",
              "\n",
              "          const docLinkHtml = 'Like what you see? Visit the ' +\n",
              "            '<a target=\"_blank\" href=https://colab.research.google.com/notebooks/data_table.ipynb>data table notebook</a>'\n",
              "            + ' to learn more about interactive tables.';\n",
              "          element.innerHTML = '';\n",
              "          dataTable['output_type'] = 'display_data';\n",
              "          await google.colab.output.renderOutput(dataTable, element);\n",
              "          const docLink = document.createElement('div');\n",
              "          docLink.innerHTML = docLinkHtml;\n",
              "          element.appendChild(docLink);\n",
              "        }\n",
              "      </script>\n",
              "    </div>\n",
              "  </div>\n",
              "  "
            ]
          },
          "metadata": {},
          "execution_count": 598
        }
      ],
      "source": [
        "T_F_values_non[T_F_values_non.true_class == 8]"
      ]
    },
    {
      "cell_type": "code",
      "execution_count": null,
      "metadata": {
        "colab": {
          "base_uri": "https://localhost:8080/",
          "height": 419
        },
        "id": "VjhjP5QvmgrZ",
        "outputId": "e69bc359-b2f1-4b65-bb93-dd7f4646b003"
      },
      "outputs": [
        {
          "output_type": "display_data",
          "data": {
            "text/plain": [
              "<Figure size 720x720 with 35 Axes>"
            ],
            "image/png": "[encoded data removed]"
          },
          "metadata": {}
        }
      ],
      "source": [
        "\n",
        "plt.figure(figsize=(10,10))\n",
        "for i in range(len(T_F_values_non)):\n",
        "    plt.subplot(7,8,i+1)\n",
        "    plt.xticks([])\n",
        "    plt.yticks([])\n",
        "    plt.grid(False)\n",
        "    im_name = T_F_values_non.iloc[i]['image_name'].split('/')[-1]\n",
        "    img_path = path + '/' + im_name\n",
        "    img  = cv2.imread(img_path)\n",
        "    plt.imshow(img)\n",
        "    tr_clss = 'Tr: ' + str(T_F_values_non.iloc[i]['true_class'])\n",
        "    pr_clss = 'Prd: ' + str(T_F_values_non.iloc[i]['predicted_class'])\n",
        "    name_ = str(T_F_values_non.iloc[i]['image_name'])\n",
        "    name_ = name_.split('/')[-1].split('.')[0]\n",
        "    image_label = tr_clss + '\\n' + pr_clss + ', ' + name_\n",
        "    plt.xlabel(image_label)\n",
        "plt.show()\n"
      ]
    },
    {
      "cell_type": "code",
      "execution_count": null,
      "metadata": {
        "id": "48YeEvAQmgrZ"
      },
      "outputs": [],
      "source": []
    }
  ],
  "metadata": {
    "colab": {
      "provenance": []
    },
    "kernelspec": {
      "display_name": "Python 3.10.0 64-bit",
      "language": "python",
      "name": "python3"
    },
    "language_info": {
      "codemirror_mode": {
        "name": "ipython",
        "version": 3
      },
      "file_extension": ".py",
      "mimetype": "text/x-python",
      "name": "python",
      "nbconvert_exporter": "python",
      "pygments_lexer": "ipython3",
      "version": "3.10.0"
    },
    "vscode": {
      "interpreter": {
        "hash": "7e1998ff7f8aa20ada591c520b972326324e5ea05489af9e422744c7c09f6dad"
      }
    }
  },
  "nbformat": 4,
  "nbformat_minor": 0
}